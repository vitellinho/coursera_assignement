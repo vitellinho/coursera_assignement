{
 "cells": [
  {
   "cell_type": "markdown",
   "id": "e573f220-cd68-40fa-ae9b-02127ac5da31",
   "metadata": {},
   "source": [
    "# Assignement"
   ]
  },
  {
   "cell_type": "markdown",
   "id": "ba283c54-0dfd-4606-8c80-8877dec34044",
   "metadata": {},
   "source": [
    "## Introduction"
   ]
  },
  {
   "cell_type": "markdown",
   "id": "74a0497e-2a42-4627-85b2-6c86334b439e",
   "metadata": {},
   "source": [
    "Data Science Languages:\n",
    "\n",
    "- Python\n",
    "- R\n",
    "- ..."
   ]
  },
  {
   "cell_type": "markdown",
   "id": "19d8642e-c020-453f-b77e-b872ed2245b8",
   "metadata": {},
   "source": [
    "Data Science Libraries:\n",
    "\n",
    "- Numpy\n",
    "- Pandas\n",
    "- ..."
   ]
  },
  {
   "cell_type": "markdown",
   "id": "48609140-7747-48a3-ae2a-eb119be11680",
   "metadata": {},
   "source": [
    "Data Science Tools:\n",
    "\n",
    "- Power BI\n",
    "- ggplot2\n",
    "- ..."
   ]
  },
  {
   "cell_type": "markdown",
   "id": "7e094cd3-76c7-4c0d-86a3-74b5e99bdbb5",
   "metadata": {},
   "source": [
    "Arithmetic Expression Examples:\n",
    "\n",
    "- Addition: 5 + 3\n",
    "- Subtraction: 5 - 3\n",
    "- ..."
   ]
  },
  {
   "cell_type": "code",
   "execution_count": 3,
   "id": "c13d0f8a-192e-446e-b723-eb9731002dc6",
   "metadata": {},
   "outputs": [
    {
     "name": "stdout",
     "output_type": "stream",
     "text": [
      "25\n"
     ]
    }
   ],
   "source": [
    "def multiplyer(x, y):\n",
    "    multiplication = x*y\n",
    "    print(multiplication)\n",
    "\n",
    "multiplyer(5, 5)"
   ]
  },
  {
   "cell_type": "code",
   "execution_count": 6,
   "id": "45bd7aa7-0323-4f2b-a4b4-1811fd45c9db",
   "metadata": {},
   "outputs": [
    {
     "name": "stdout",
     "output_type": "stream",
     "text": [
      "2.5\n"
     ]
    }
   ],
   "source": [
    "def time_converter(minutes):\n",
    "    hours = minutes/60\n",
    "    print(hours)\n",
    "\n",
    "time_converter(150)"
   ]
  },
  {
   "cell_type": "markdown",
   "id": "fca937e5-2bfa-4771-9931-663ca9f949a9",
   "metadata": {},
   "source": [
    "Objectives\n",
    "\n",
    "- Learn a new machine learning algorithm\n",
    "- Improve proficiency in Python or R\n",
    "- ..."
   ]
  },
  {
   "cell_type": "markdown",
   "id": "ec0bf353-5114-4c51-8167-890cc6ba4dd1",
   "metadata": {},
   "source": [
    "Author: Luigi Vitello"
   ]
  },
  {
   "cell_type": "code",
   "execution_count": null,
   "id": "5e9eb67b-bcad-4928-994b-12bdf0f87298",
   "metadata": {},
   "outputs": [],
   "source": []
  }
 ],
 "metadata": {
  "kernelspec": {
   "display_name": "Python 3 (ipykernel)",
   "language": "python",
   "name": "python3"
  },
  "language_info": {
   "codemirror_mode": {
    "name": "ipython",
    "version": 3
   },
   "file_extension": ".py",
   "mimetype": "text/x-python",
   "name": "python",
   "nbconvert_exporter": "python",
   "pygments_lexer": "ipython3",
   "version": "3.11.2"
  }
 },
 "nbformat": 4,
 "nbformat_minor": 5
}
